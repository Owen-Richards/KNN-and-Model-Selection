{
  "nbformat": 4,
  "nbformat_minor": 0,
  "metadata": {
    "colab": {
      "name": "knn_template.ipynb",
      "provenance": [],
      "collapsed_sections": []
    },
    "kernelspec": {
      "name": "python3",
      "display_name": "Python 3"
    },
    "accelerator": "GPU"
  },
  "cells": [
    {
      "cell_type": "markdown",
      "metadata": {
        "id": "DQpDFQUK45gl"
      },
      "source": [
        "In this HW, we will implement kNN on three different types of features, extracted from the same movie review data used in HW4. The general pipeline is (1) extracting the relevant features, (2) cross validation to find the best k, (3) followed by prediction on the test set and reporting test accuracy."
      ]
    },
    {
      "cell_type": "code",
      "metadata": {
        "id": "gS6ip6I8a_eK",
        "colab": {
          "base_uri": "https://localhost:8080/"
        },
        "outputId": "f0a93d2d-c7cb-4ca5-869e-1a0452871d36"
      },
      "source": [
        "!pip install transformers\n",
        "!unzip data_sets.zip"
      ],
      "execution_count": 1,
      "outputs": [
        {
          "output_type": "stream",
          "name": "stdout",
          "text": [
            "Collecting transformers\n",
            "  Downloading transformers-4.18.0-py3-none-any.whl (4.0 MB)\n",
            "\u001b[K     |████████████████████████████████| 4.0 MB 5.2 MB/s \n",
            "\u001b[?25hRequirement already satisfied: tqdm>=4.27 in /usr/local/lib/python3.7/dist-packages (from transformers) (4.64.0)\n",
            "Requirement already satisfied: importlib-metadata in /usr/local/lib/python3.7/dist-packages (from transformers) (4.11.3)\n",
            "Requirement already satisfied: packaging>=20.0 in /usr/local/lib/python3.7/dist-packages (from transformers) (21.3)\n",
            "Requirement already satisfied: numpy>=1.17 in /usr/local/lib/python3.7/dist-packages (from transformers) (1.21.6)\n",
            "Requirement already satisfied: requests in /usr/local/lib/python3.7/dist-packages (from transformers) (2.23.0)\n",
            "Collecting sacremoses\n",
            "  Downloading sacremoses-0.0.49-py3-none-any.whl (895 kB)\n",
            "\u001b[K     |████████████████████████████████| 895 kB 43.7 MB/s \n",
            "\u001b[?25hCollecting tokenizers!=0.11.3,<0.13,>=0.11.1\n",
            "  Downloading tokenizers-0.12.1-cp37-cp37m-manylinux_2_12_x86_64.manylinux2010_x86_64.whl (6.6 MB)\n",
            "\u001b[K     |████████████████████████████████| 6.6 MB 32.0 MB/s \n",
            "\u001b[?25hCollecting huggingface-hub<1.0,>=0.1.0\n",
            "  Downloading huggingface_hub-0.5.1-py3-none-any.whl (77 kB)\n",
            "\u001b[K     |████████████████████████████████| 77 kB 5.9 MB/s \n",
            "\u001b[?25hCollecting pyyaml>=5.1\n",
            "  Downloading PyYAML-6.0-cp37-cp37m-manylinux_2_5_x86_64.manylinux1_x86_64.manylinux_2_12_x86_64.manylinux2010_x86_64.whl (596 kB)\n",
            "\u001b[K     |████████████████████████████████| 596 kB 46.2 MB/s \n",
            "\u001b[?25hRequirement already satisfied: filelock in /usr/local/lib/python3.7/dist-packages (from transformers) (3.6.0)\n",
            "Requirement already satisfied: regex!=2019.12.17 in /usr/local/lib/python3.7/dist-packages (from transformers) (2019.12.20)\n",
            "Requirement already satisfied: typing-extensions>=3.7.4.3 in /usr/local/lib/python3.7/dist-packages (from huggingface-hub<1.0,>=0.1.0->transformers) (4.2.0)\n",
            "Requirement already satisfied: pyparsing!=3.0.5,>=2.0.2 in /usr/local/lib/python3.7/dist-packages (from packaging>=20.0->transformers) (3.0.8)\n",
            "Requirement already satisfied: zipp>=0.5 in /usr/local/lib/python3.7/dist-packages (from importlib-metadata->transformers) (3.8.0)\n",
            "Requirement already satisfied: urllib3!=1.25.0,!=1.25.1,<1.26,>=1.21.1 in /usr/local/lib/python3.7/dist-packages (from requests->transformers) (1.24.3)\n",
            "Requirement already satisfied: chardet<4,>=3.0.2 in /usr/local/lib/python3.7/dist-packages (from requests->transformers) (3.0.4)\n",
            "Requirement already satisfied: certifi>=2017.4.17 in /usr/local/lib/python3.7/dist-packages (from requests->transformers) (2021.10.8)\n",
            "Requirement already satisfied: idna<3,>=2.5 in /usr/local/lib/python3.7/dist-packages (from requests->transformers) (2.10)\n",
            "Requirement already satisfied: click in /usr/local/lib/python3.7/dist-packages (from sacremoses->transformers) (7.1.2)\n",
            "Requirement already satisfied: joblib in /usr/local/lib/python3.7/dist-packages (from sacremoses->transformers) (1.1.0)\n",
            "Requirement already satisfied: six in /usr/local/lib/python3.7/dist-packages (from sacremoses->transformers) (1.15.0)\n",
            "Installing collected packages: pyyaml, tokenizers, sacremoses, huggingface-hub, transformers\n",
            "  Attempting uninstall: pyyaml\n",
            "    Found existing installation: PyYAML 3.13\n",
            "    Uninstalling PyYAML-3.13:\n",
            "      Successfully uninstalled PyYAML-3.13\n",
            "Successfully installed huggingface-hub-0.5.1 pyyaml-6.0 sacremoses-0.0.49 tokenizers-0.12.1 transformers-4.18.0\n",
            "unzip:  cannot find or open data_sets.zip, data_sets.zip.zip or data_sets.zip.ZIP.\n"
          ]
        }
      ]
    },
    {
      "cell_type": "code",
      "metadata": {
        "id": "B5ii0Gtm5rMY",
        "colab": {
          "base_uri": "https://localhost:8080/"
        },
        "outputId": "5f64fe6a-5fc7-4cd5-9a5c-86298d5acf1f"
      },
      "source": [
        "# imports\n",
        "import os\n",
        "import re\n",
        "import json\n",
        "import string\n",
        "import numpy as np\n",
        "import tensorflow as tf\n",
        "from tensorflow import keras\n",
        "from tensorflow.keras import layers\n",
        "from tokenizers import BertWordPieceTokenizer\n",
        "import random\n",
        "from transformers import BertTokenizer, TFBertForSequenceClassification, BertConfig, AutoTokenizer, TFBertModel\n",
        "import matplotlib.pyplot as plt\n",
        "import math\n",
        "from scipy import stats\n",
        "import os\n",
        "import re\n",
        "import json\n",
        "import string\n",
        "import numpy as np\n",
        "import tensorflow as tf\n",
        "from tensorflow import keras\n",
        "from tensorflow.keras import layers\n",
        "from tokenizers import BertWordPieceTokenizer\n",
        "import random\n",
        "from sklearn.feature_extraction.text import TfidfVectorizer\n",
        "from transformers import BertTokenizer, TFBertForSequenceClassification, BertConfig, AutoTokenizer, TFBertModel\n",
        "import matplotlib.pyplot as plt\n",
        "import nltk\n",
        "nltk.download('punkt')\n",
        "nltk.download('stopwords')\n",
        "from nltk.stem import PorterStemmer\n",
        "from nltk.corpus import stopwords\n",
        "from nltk.tokenize import word_tokenize, RegexpTokenizer\n",
        "from sklearn.utils import shuffle\n",
        "import heapq\n",
        "import operator\n",
        "from sklearn.feature_extraction.text import TfidfTransformer\n",
        "from sklearn.feature_extraction.text import CountVectorizer\n",
        "from sklearn.pipeline import Pipeline\n",
        "from collections import Counter\n",
        "tokenizer = RegexpTokenizer(r'\\w+')\n",
        "stop_words = set(stopwords.words('english'))\n",
        "ps = PorterStemmer()\n",
        "from google.colab import drive\n",
        "drive.mount('/content/drive')\n"
      ],
      "execution_count": 2,
      "outputs": [
        {
          "output_type": "stream",
          "name": "stdout",
          "text": [
            "[nltk_data] Downloading package punkt to /root/nltk_data...\n",
            "[nltk_data]   Unzipping tokenizers/punkt.zip.\n",
            "[nltk_data] Downloading package stopwords to /root/nltk_data...\n",
            "[nltk_data]   Unzipping corpora/stopwords.zip.\n",
            "Mounted at /content/drive\n"
          ]
        }
      ]
    },
    {
      "cell_type": "markdown",
      "metadata": {
        "id": "Q_Tmt8cb7kJp"
      },
      "source": [
        "We will use 4 fold cross validation, and cross validate over the number of nearest neighbors in [3,5,7,9,11,13]"
      ]
    },
    {
      "cell_type": "code",
      "metadata": {
        "id": "kwcSqb9l5pSu"
      },
      "source": [
        "kfolds = 4\n",
        "klist  = [3, 5, 7, 9, 11, 13]\n",
        "MIN_FREQ = 3\n",
        "MAX_VOCAB = 768"
      ],
      "execution_count": 11,
      "outputs": []
    },
    {
      "cell_type": "markdown",
      "metadata": {
        "id": "7h3EuV5m4pIQ"
      },
      "source": [
        "# The three different features we will use are:\n",
        "1. BOW representation\n",
        "\n",
        "In HW4, we implemented NaiveBayes on BOW representation. In this HW, we will use the same features, and classify reviews using kNN classifier. \n",
        "2.  term-frequency times inverse document-frequency (tf-idf) \n",
        "\n",
        "We will convert the above BOW matrices into tf-idf features using https://scikit-learn.org/stable/modules/generated/sklearn.feature_extraction.text.TfidfTransformer.html , and classify reviews using kNN classifier.\n",
        "\n",
        "3. BERT Embeddings\n",
        "\n",
        "We will use the pretrained BERT model to extract embeddings for each review, and use these embeddings as input to kNN classifier.\n",
        "\n",
        "\n",
        "\n"
      ]
    },
    {
      "cell_type": "code",
      "metadata": {
        "id": "ip29bVtS5lPm"
      },
      "source": [
        "# knn functions \n",
        "# you are required to implement the following kNN functions\n",
        "def getBOWRepresentation(x_train, x_test, vocabulary):\n",
        "  '''\n",
        "  converts into Bag of Words representation\n",
        "  each column is a feature(unique word) from the vocabulary \n",
        "  x_train_bow : a numpy array with bag of words representation\n",
        "  '''\n",
        "  # --------your code here-------------\n",
        "  x_train_bow = []\n",
        "  x_test_bow = []\n",
        "  for text_data in x_train:\n",
        "    x_train_bow.append(transfer(text_data, list(vocabulary)))\n",
        "  for text_data in x_test:\n",
        "    x_test_bow.append(transfer(text_data, list(vocabulary)))\n",
        "  x_train_bow = np.array(x_train_bow)\n",
        "  x_test_bow = np.array(x_test_bow)\n",
        "  return np.array(x_train_bow), np.array(x_test_bow)"
      ],
      "execution_count": 12,
      "outputs": []
    },
    {
      "cell_type": "code",
      "metadata": {
        "id": "JyZnKD2V6-GC"
      },
      "source": [
        "# 2. Generate the i-th fold of k fold validation: used by findBestK below\n",
        "# Input:\n",
        "# x is an np array for training data\n",
        "# y is an np array for labels\n",
        "# i is an int indicating current fold\n",
        "# nfolds is the total number of cross validation folds\n",
        "def fold(x, y, i, nfolds):\n",
        "    # your code\n",
        "    train_num = x.shape[0]\n",
        "    foldNum = train_num//nfolds\n",
        "    test_data = i*foldNum\n",
        "    \n",
        "    x_train = np.concatenate((x[0:test_data], x[test_data+foldNum:]), axis=0)\n",
        "    x_test = x[test_data: test_data+foldNum]\n",
        "\n",
        "    y_train = np.concatenate((y[0:test_data], y[test_data+foldNum:]), axis=0)\n",
        "    y_test = y[test_data: test_data+foldNum]\n",
        "\n",
        "    return x_train, y_train, x_test, y_test\n",
        "\n",
        "# 3. Classify each testing points based on the training points\n",
        "# Input\n",
        "# x_train: a numpy array of training data \n",
        "# x_test: a numpy array\n",
        "# k: the number of neighbors to take into account when predicting the label\n",
        "# Output\n",
        "# y_predict: a numpy array \n",
        "\n",
        "def euclidean(x,y):\n",
        "    return np.sqrt(np.sum((x-y)**2))\n",
        "\n",
        "def classify(x_train, y_train, x_test, k):\n",
        "    # your code\n",
        "    # Euclidean distance as the measurement of distance in KNN\n",
        "    numNeigh = {}\n",
        "    for i in range(len(x_test)):\n",
        "        distance_KNN = []\n",
        "        for j in range(len(x_train)): # Help from TA\n",
        "            dist = euclidean(x_test[i], x_train[j])\n",
        "            distance_KNN.append((j, dist, y_train[j]))\n",
        "        numNeigh[i] = sorted(distance_KNN, key = lambda kv: kv[1])[:k]\n",
        "\n",
        "    y_predict = [] \n",
        "    for i in range(len(x_test)):\n",
        "        y_data = Counter([x[2] for x in numNeigh[i]])\n",
        "        y_predict.append(max(y_data.items(), key=operator.itemgetter(1))[0])\n",
        "    return np.array(y_predict) # return numpy array\n",
        "\n",
        "# 4. Calculate accuracy by comaring with true labels\n",
        "# Input\n",
        "# y_predict is a numpy array of 1s and 0s for the class prediction\n",
        "# y is a numpy array of 1s and 0s for the true class label\n",
        "def calc_accuracy(y_predict, y):\n",
        "    # your code\n",
        "    acc = np.sum(y == y_predict, axis=0) / len(y)\n",
        "    return acc\n",
        "\n",
        "# 5. Draw the bar plot of k vs. accuracy\n",
        "# klist: a list of values of ks\n",
        "# accuracy_list: a list of accuracies\n",
        "def barplot(klist, accuracy_list):\n",
        "    # your code\n",
        "    plt.bar(klist, accuracy_list)\n",
        "    plt.title('Number of Neighbors Vs Accuracy')\n",
        "    plt.xlabel('Number of neighbors')\n",
        "    plt.ylabel('Accuracy')\n",
        "    plt.show()\n",
        "    return\n",
        "\n",
        "# 1. Find the best K\n",
        "def findBestK(x, y, klist, nfolds):\n",
        "    kbest = 0\n",
        "    best_acc = 0\n",
        "    counter = 0\n",
        "    accuracy_list = []\n",
        "    for k in klist:\n",
        "        # your code here\n",
        "        the_fold_accuracy = []\n",
        "        for i in range(nfolds):\n",
        "            x_train, y_train, x_test, y_test = fold(x, y, i, nfolds)\n",
        "            y_predict = classify(x_train, y_train, x_test, k)\n",
        "            the_fold_accuracy.append(calc_accuracy(y_predict, y_test))\n",
        "        \n",
        "        accuracy = sum(the_fold_accuracy) / nfolds\n",
        "        if accuracy > best_acc:\n",
        "            kbest = k\n",
        "            best_acc = accuracy\n",
        "        accuracy_list.append(accuracy)\n",
        "        print(k, accuracy)\n",
        "\n",
        "    barplot(klist, accuracy_list)\n",
        "    return kbest\n"
      ],
      "execution_count": 13,
      "outputs": []
    },
    {
      "cell_type": "markdown",
      "metadata": {
        "id": "7a94F-2a7aQR"
      },
      "source": [
        "# The following sections extract the relevant input features "
      ]
    },
    {
      "cell_type": "code",
      "metadata": {
        "id": "BYfVeBFAbXVI"
      },
      "source": [
        "\n",
        "\n",
        "# BERT is pretrained with a max length of 512\n",
        "MAX_LEN = 512\n",
        "tf.random.set_seed(42)\n",
        "PRETRAINED_MODEL_ID = \"bert-base-uncased\"\n",
        "### Already implemented\n",
        "def create_inputs_targets(text_examples, tokenizer):\n",
        "    '''converts inputs into the representation accepted by BERT\n",
        "    '''\n",
        "    dataset_dict = {\n",
        "        \"input_ids\": [],\n",
        "        \n",
        "        \"attention_mask\": []\n",
        "    }\n",
        "    \n",
        "    for item in text_examples:\n",
        "        encodings = tokenizer(item, return_tensors='tf', max_length = MAX_LEN, truncation = True, pad_to_max_length=True)\n",
        "        \n",
        "        dataset_dict[\"input_ids\"].append((encodings.input_ids))\n",
        "        dataset_dict[\"attention_mask\"].append((encodings.attention_mask))\n",
        "    \n",
        "    for key in dataset_dict:\n",
        "        dataset_dict[key] = np.squeeze(np.array(dataset_dict[key]), axis=1)\n",
        "           \n",
        "    x = [\n",
        "        dataset_dict[\"input_ids\"],\n",
        "     \n",
        "        dataset_dict[\"attention_mask\"]\n",
        "    ]\n",
        "    \n",
        "    return x\n",
        "\n",
        "\n",
        "def loadRawData(path):\n",
        "    # your code here, from HW4\n",
        "    x_train = []\n",
        "    x_test = []\n",
        "    y_train = []\n",
        "    y_test = []\n",
        "    \n",
        "    for file in os.listdir(path+'/training_set/pos/'):\n",
        "      with open(path+'/training_set/pos/'+file) as myfile:\n",
        "        raw_data = myfile.read()\n",
        "        x_train.append(raw_data)\n",
        "        y_train.append(1)\n",
        "        \n",
        "    for file in os.listdir(path+'/training_set/neg/'):\n",
        "      with open(path+'/training_set/neg/'+file) as myfile:\n",
        "        raw_data = myfile.read()\n",
        "        x_train.append(raw_data)\n",
        "        y_train.append(0)\n",
        "    \n",
        "    for file in os.listdir(path+'/test_set/pos/'):\n",
        "      with open(path+'/test_set/pos/'+file) as myfile:\n",
        "        raw_data = myfile.read()\n",
        "        x_test.append(raw_data)\n",
        "        y_test.append(1)\n",
        "    \n",
        "    for file in os.listdir(path+'/training_set/neg/'):\n",
        "      with open(path+'/training_set/neg/'+file) as myfile:\n",
        "        raw_data = myfile.read()\n",
        "        x_test.append(raw_data)\n",
        "        y_test.append(0)\n",
        "    \n",
        "    shuffled_indicies = np.random.permutation(len(x_train))\n",
        "    x_train1 = []\n",
        "    y_train1 = []\n",
        "    for i in shuffled_indicies:\n",
        "      x_train1.append(x_train[i])\n",
        "      y_train1.append(y_train[i])\n",
        "    x_train = x_train1\n",
        "    y_train = y_train1\n",
        "    \n",
        "    x_train = np.array(x_train)\n",
        "    y_train = np.array(y_train)\n",
        "    x_test = np.array(x_test)\n",
        "    y_test = np.array(y_test)\n",
        "    return x_train, x_test, y_train, y_test\n",
        "\n",
        "def loadData(path):\n",
        "  '''\n",
        "  loads reviews as strings in a list \n",
        "  ---- your code here ------\n",
        "  '''\n",
        "  x_train = []\n",
        "  x_test = []\n",
        "  y_train = []\n",
        "  y_test = []\n",
        "  vocab_builder = []\n",
        "  vocabulary ={}\n",
        "  \n",
        "  for file in os.listdir(path+'/training_set/pos/'):\n",
        "     with open(path+'/training_set/pos/'+file) as myfile:\n",
        "       review = myfile.read()\n",
        "       review = re.sub(r'[^\\w\\s]', '', review)\n",
        "       review_tokens = tokenizer.tokenize(review.lower())\n",
        "       review_tokens = [review for review in review_tokens if not review in stop_words]\n",
        "       review_tokens = [ps.stem(review) for review in review_tokens]\n",
        "       x_train.append(review_tokens)\n",
        "       y_train += [1]\n",
        "       vocab_builder += review_tokens\n",
        "  \n",
        "  for file in os.listdir(path+'/training_set/neg/'):\n",
        "    with open(path+'/training_set/neg/'+file) as myfile:\n",
        "      read_file = myfile.read()\n",
        "      review = re.sub(r'[^\\w\\s]', '', read_file)\n",
        "      review_tokens = tokenizer.tokenize(review.lower())\n",
        "      review_tokens = [review for review in review_tokens if not review in stop_words]\n",
        "      review_tokens = [ps.stem(review) for review in review_tokens]\n",
        "      x_train.append(review_tokens)\n",
        "      y_train += [0]\n",
        "      vocab_builder += review_tokens\n",
        "  \n",
        "  for file in os.listdir(path+'/test_set/pos/'):\n",
        "    with open(path+'/test_set/pos/'+file) as f:\n",
        "      read_file = f.read()\n",
        "      review = re.sub(r'[^\\w\\s]', '', read_file)\n",
        "      review_tokens = tokenizer.tokenize(review.lower())\n",
        "      review_tokens = [review for review in review_tokens if not review in stop_words]\n",
        "      review_tokens = [ps.stem(review) for review in review_tokens]\n",
        "      x_test.append(review_tokens)\n",
        "      y_test += [1]\n",
        "      vocab_builder += review_tokens\n",
        "  \n",
        "  for file in os.listdir(path+'/test_set/neg/'):\n",
        "    with open(path+'/test_set/neg/'+file) as myfile:\n",
        "      read_file = myfile.read()\n",
        "      review = re.sub(r'[^\\w\\s]', '', read_file)\n",
        "      review_tokens = tokenizer.tokenize(review.lower())\n",
        "      review_tokens = [review for review in review_tokens if not review in stop_words]\n",
        "      review_tokens = [ps.stem(review) for w in review_tokens]\n",
        "      x_test.append(review_tokens)\n",
        "      y_test += [0]\n",
        "      vocab_builder += review_tokens\n",
        "  \n",
        "  for word in vocab_builder:\n",
        "    if word in vocabulary.keys():\n",
        "      vocabulary[word]=vocabulary[word]+1\n",
        "    else:\n",
        "      vocabulary[word]=1\n",
        "      \n",
        "  shuffle = np.random.permutation(len(x_train))\n",
        "  x_train = [x_train[i] for i in shuffle]\n",
        "  y_train = [y_train[i] for i in shuffle]\n",
        "  \n",
        "  return x_train, x_test, y_train, y_test, vocabulary\n",
        "\n",
        "\n",
        "def transfer(review, vocabulary):\n",
        "  temp_list = [0]*len(vocabulary)\n",
        "  for word in review:\n",
        "    if word in vocabulary:\n",
        "      index = vocabulary.index(word)\n",
        "      temp_list[index] += 1\n",
        "  return temp_list\n",
        "## Already Implemented\n",
        "def create_bert():\n",
        "    '''Creates a model specified by pretrained_model_id\n",
        "\n",
        "    '''\n",
        "    # load pretrained BERT model \n",
        "    \n",
        "    # Note that here we use TFBertModel instead of TFBertforSequenceClassification\n",
        "    model = TFBertModel.from_pretrained(PRETRAINED_MODEL_ID, num_labels = 2 )\n",
        "    \n",
        "    \n",
        "    # BERT inputs \n",
        "    input_ids = layers.Input(shape=(MAX_LEN,), dtype=tf.int32)\n",
        "    print(input_ids.shape)\n",
        "    attention_mask = layers.Input(shape=(MAX_LEN,), dtype=tf.int32)\n",
        "    \n",
        "    embedding = model(\n",
        "            input_ids,  attention_mask=attention_mask\n",
        "        )\n",
        " \n",
        "    # this returns two embeddings : N X MAX_LEN X 768 (hidden representation for each token) and N X 768 (next sentence prediction token)\n",
        "    # as we want to represent the entire sentence, we will use the average of the representation for each token in the first output\n",
        "    # Note that there are other alternative ways  to do this: using the first token (CLS) to represent the entire sentence, or using the \n",
        "    # next sentence prediction token\n",
        "    return model\n",
        "\n",
        "\n",
        "\n",
        "# change the following code to add TFIDF features \n",
        "def processData(fullDatasetPath, model_type):\n",
        "  # shuffle train data here, or when loading the train data or as part of kNN cross validation function\n",
        "  # we will use the bert-base-uncased tokenizer - \n",
        "  if model_type == 'BERT':\n",
        "    # load datasets as lists of reviews\n",
        "    # no preprocessing required!\n",
        "    # we will use the bert-base-uncased tokenizer - \n",
        "    XtrainText, XtestText, ytrain, ytest = loadRawData(fullDatasetPath)\n",
        "    tokenizer = BertTokenizer.from_pretrained(PRETRAINED_MODEL_ID)\n",
        "    \n",
        "    # tokenize for bert\n",
        "    xtrain = create_inputs_targets(XtrainText, tokenizer)\n",
        "    \n",
        "    \n",
        "    ytrain = np.array(ytrain)\n",
        "\n",
        "    xtest = create_inputs_targets(XtestText, tokenizer)\n",
        "    \n",
        "    ytest = np.array(ytest)\n",
        "    model = create_bert()\n",
        "    xtrain = np.mean(model.predict(xtrain)[0], axis=1) #we want to represent the entire sentence, we will use the average of the output token representation \n",
        "    xtest = np.mean(model.predict(xtest)[0], axis=1) \n",
        "    return xtrain, xtest, ytrain, ytest\n",
        "    \n",
        "  else:\n",
        "    # reuse data loading functions from NaiveBayes portions, you can optionally save the BOW matrices and reload here \n",
        "    # reuse from HW4\n",
        "    XtrainText, XtestText, ytrain, ytest, vocabulary = loadData(fullDatasetPath)\n",
        "    vocabulary = dict((word, index) for word, index in vocabulary.items() if \\\n",
        "                   vocabulary[word]>=MIN_FREQ and word in heapq.nlargest(MAX_VOCAB, vocabulary, key=vocabulary.get))\n",
        "    vocabulary['UNK'] = 0\n",
        "    xtrain, xtest = getBOWRepresentation(XtrainText, XtestText, vocabulary) \n",
        "    # add TFidF transformer\n",
        "    if model_type == 'TFIDF':\n",
        "      # extract TF-IDF features using sklearn helper\n",
        "      transformer = TfidfTransformer()\n",
        "      xtrain = transformer.fit_transform(xtrain).toarray()\n",
        "      xtext = transformer.fit_transform(xtest).toarray()\n",
        "    xtrain, ytrain = shuffle(xtrain, ytrain)\n",
        "    return xtrain, xtest, ytrain, ytest\n",
        "\n",
        "\n",
        "\n"
      ],
      "execution_count": 14,
      "outputs": []
    },
    {
      "cell_type": "code",
      "metadata": {
        "id": "ResJesimXGxf"
      },
      "source": [
        "def classification_pipeline(path, klist, kfolds, model_type):\n",
        "  xtrain, xtest, ytrain, ytest = processData(path, model_type)\n",
        "  bestk = findBestK(xtrain, ytrain, klist, kfolds)\n",
        "  y_pred = classify(xtrain, ytrain, xtest, k=bestk)\n",
        "  test_acc = calc_accuracy(y_pred, ytest) \n",
        "  return test_acc, bestk"
      ],
      "execution_count": 7,
      "outputs": []
    },
    {
      "cell_type": "markdown",
      "source": [
        ""
      ],
      "metadata": {
        "id": "-xHcl7XKnpsM"
      }
    },
    {
      "cell_type": "markdown",
      "metadata": {
        "id": "NfxwLc5L4awY"
      },
      "source": [
        "# k-Nearest Neighbor on BOW representation, TF-IDF and BERT embeddings"
      ]
    },
    {
      "cell_type": "code",
      "metadata": {
        "id": "TbA0e53ci1FF",
        "colab": {
          "base_uri": "https://localhost:8080/",
          "height": 1000
        },
        "outputId": "59e54c17-159d-46b9-d81b-a72899b09158"
      },
      "source": [
        "feature_types = ['BOW', 'TFIDF', 'BERT']\n",
        "path = '/content/drive/My Drive/data_sets/'\n",
        "for feature_type in feature_types:\n",
        "  test_acc, best_k = classification_pipeline(path, klist, kfolds, feature_type)\n",
        "  print(f'features: {feature_type}, best_k: {best_k},  test accuracy: {test_acc}')\n"
      ],
      "execution_count": 15,
      "outputs": [
        {
          "metadata": {
            "tags": null
          },
          "name": "stdout",
          "output_type": "stream",
          "text": [
            "3 0.5885714285714286\n",
            "5 0.5928571428571429\n",
            "7 0.5935714285714286\n",
            "9 0.6007142857142858\n",
            "11 0.6135714285714285\n",
            "13 0.6107142857142858\n"
          ]
        },
        {
          "data": {
            "image/png": "[encoded data removed]",
            "text/plain": [
              "<Figure size 432x288 with 1 Axes>"
            ]
          },
          "metadata": {},
          "output_type": "display_data"
        },
        {
          "metadata": {
            "tags": null
          },
          "name": "stdout",
          "output_type": "stream",
          "text": [
            "features: BOW, best_k: 11,  test accuracy: 0.6566666666666666\n",
            "3 0.6585714285714286\n",
            "5 0.6678571428571429\n",
            "7 0.6707142857142857\n",
            "9 0.6728571428571428\n",
            "11 0.6678571428571428\n",
            "13 0.6807142857142857\n"
          ]
        },
        {
          "data": {
            "image/png": "[encoded data removed]",
            "text/plain": [
              "<Figure size 432x288 with 1 Axes>"
            ]
          },
          "metadata": {},
          "output_type": "display_data"
        },
        {
          "metadata": {
            "tags": null
          },
          "name": "stdout",
          "output_type": "stream",
          "text": [
            "features: TFIDF, best_k: 13,  test accuracy: 0.8416666666666667\n"
          ]
        },
        {
          "metadata": {
            "tags": null
          },
          "name": "stderr",
          "output_type": "stream",
          "text": [
            "/usr/local/lib/python3.7/dist-packages/transformers/tokenization_utils_base.py:2269: FutureWarning: The `pad_to_max_length` argument is deprecated and will be removed in a future version, use `padding=True` or `padding='longest'` to pad to the longest sequence in the batch, or use `padding='max_length'` to pad to a max length. In this case, you can give a specific length with `max_length` (e.g. `max_length=45`) or leave max_length to None to pad to the maximal input size of the model (e.g. 512 for Bert).\n",
            "  FutureWarning,\n",
            "Some layers from the model checkpoint at bert-base-uncased were not used when initializing TFBertModel: ['nsp___cls', 'mlm___cls']\n",
            "- This IS expected if you are initializing TFBertModel from the checkpoint of a model trained on another task or with another architecture (e.g. initializing a BertForSequenceClassification model from a BertForPreTraining model).\n",
            "- This IS NOT expected if you are initializing TFBertModel from the checkpoint of a model that you expect to be exactly identical (initializing a BertForSequenceClassification model from a BertForSequenceClassification model).\n",
            "All the layers of TFBertModel were initialized from the model checkpoint at bert-base-uncased.\n",
            "If your task is similar to the task the model of the checkpoint was trained on, you can already use TFBertModel for predictions without further training.\n"
          ]
        },
        {
          "output_type": "stream",
          "name": "stdout",
          "text": [
            "(None, 512)\n",
            "3 0.6714285714285714\n",
            "5 0.6821428571428572\n",
            "7 0.6835714285714285\n",
            "9 0.6749999999999999\n",
            "11 0.6757142857142857\n",
            "13 0.6842857142857143\n"
          ]
        },
        {
          "output_type": "display_data",
          "data": {
            "text/plain": [
              "<Figure size 432x288 with 1 Axes>"
            ],
            "image/png": "[encoded data removed]"
          },
          "metadata": {
            "needs_background": "light"
          }
        },
        {
          "output_type": "stream",
          "name": "stdout",
          "text": [
            "features: BERT, best_k: 13,  test accuracy: 0.786\n"
          ]
        }
      ]
    }
  ]
}